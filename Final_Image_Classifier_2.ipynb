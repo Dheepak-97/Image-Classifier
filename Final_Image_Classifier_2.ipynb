{
 "cells": [
  {
   "cell_type": "code",
   "execution_count": 1,
   "metadata": {},
   "outputs": [
    {
     "name": "stderr",
     "output_type": "stream",
     "text": [
      "Using TensorFlow backend.\n"
     ]
    }
   ],
   "source": [
    "import pandas as pd\n",
    "import numpy as np\n",
    "import random\n",
    "import os\n",
    "import cv2\n",
    "import keras\n",
    "from keras_preprocessing.image import ImageDataGenerator\n",
    "from keras_preprocessing import image\n",
    "from sklearn.model_selection import train_test_split\n",
    "from sklearn.metrics import confusion_matrix\n",
    "from keras.models import load_model\n",
    "from sklearn.metrics import accuracy_score\n",
    "import tensorflow as tf\n",
    "import matplotlib.pyplot as plt\n",
    "from tensorflow.keras.layers import Dense, Flatten, Activation, Conv2D, MaxPooling2D\n",
    "from tensorflow.keras.layers import Dropout, BatchNormalization\n",
    "from tensorflow.keras.models import Sequential"
   ]
  },
  {
   "cell_type": "code",
   "execution_count": 2,
   "metadata": {},
   "outputs": [],
   "source": [
    "import seaborn as sns\n",
    "import random\n",
    "import matplotlib.pyplot as plt\n",
    "%matplotlib inline"
   ]
  },
  {
   "cell_type": "code",
   "execution_count": 3,
   "metadata": {},
   "outputs": [],
   "source": [
    "train_csv = pd.read_csv('train.csv')\n",
    "sample_csv = pd.read_csv('sample_submission.csv')"
   ]
  },
  {
   "cell_type": "code",
   "execution_count": 4,
   "metadata": {},
   "outputs": [
    {
     "data": {
      "text/html": [
       "<div>\n",
       "<style scoped>\n",
       "    .dataframe tbody tr th:only-of-type {\n",
       "        vertical-align: middle;\n",
       "    }\n",
       "\n",
       "    .dataframe tbody tr th {\n",
       "        vertical-align: top;\n",
       "    }\n",
       "\n",
       "    .dataframe thead th {\n",
       "        text-align: right;\n",
       "    }\n",
       "</style>\n",
       "<table border=\"1\" class=\"dataframe\">\n",
       "  <thead>\n",
       "    <tr style=\"text-align: right;\">\n",
       "      <th></th>\n",
       "      <th>Image</th>\n",
       "      <th>Id</th>\n",
       "    </tr>\n",
       "  </thead>\n",
       "  <tbody>\n",
       "    <tr>\n",
       "      <th>0</th>\n",
       "      <td>0000e88ab.jpg</td>\n",
       "      <td>w_f48451c</td>\n",
       "    </tr>\n",
       "    <tr>\n",
       "      <th>1</th>\n",
       "      <td>0001f9222.jpg</td>\n",
       "      <td>w_c3d896a</td>\n",
       "    </tr>\n",
       "    <tr>\n",
       "      <th>2</th>\n",
       "      <td>00029d126.jpg</td>\n",
       "      <td>w_20df2c5</td>\n",
       "    </tr>\n",
       "    <tr>\n",
       "      <th>3</th>\n",
       "      <td>00050a15a.jpg</td>\n",
       "      <td>new_whale</td>\n",
       "    </tr>\n",
       "    <tr>\n",
       "      <th>4</th>\n",
       "      <td>0005c1ef8.jpg</td>\n",
       "      <td>new_whale</td>\n",
       "    </tr>\n",
       "  </tbody>\n",
       "</table>\n",
       "</div>"
      ],
      "text/plain": [
       "           Image         Id\n",
       "0  0000e88ab.jpg  w_f48451c\n",
       "1  0001f9222.jpg  w_c3d896a\n",
       "2  00029d126.jpg  w_20df2c5\n",
       "3  00050a15a.jpg  new_whale\n",
       "4  0005c1ef8.jpg  new_whale"
      ]
     },
     "execution_count": 4,
     "metadata": {},
     "output_type": "execute_result"
    }
   ],
   "source": [
    "train_csv.head()"
   ]
  },
  {
   "cell_type": "code",
   "execution_count": 5,
   "metadata": {},
   "outputs": [
    {
     "data": {
      "text/html": [
       "<div>\n",
       "<style scoped>\n",
       "    .dataframe tbody tr th:only-of-type {\n",
       "        vertical-align: middle;\n",
       "    }\n",
       "\n",
       "    .dataframe tbody tr th {\n",
       "        vertical-align: top;\n",
       "    }\n",
       "\n",
       "    .dataframe thead th {\n",
       "        text-align: right;\n",
       "    }\n",
       "</style>\n",
       "<table border=\"1\" class=\"dataframe\">\n",
       "  <thead>\n",
       "    <tr style=\"text-align: right;\">\n",
       "      <th></th>\n",
       "      <th>Image</th>\n",
       "      <th>Id</th>\n",
       "    </tr>\n",
       "  </thead>\n",
       "  <tbody>\n",
       "    <tr>\n",
       "      <th>0</th>\n",
       "      <td>00028a005.jpg</td>\n",
       "      <td>new_whale w_23a388d w_9b5109b w_9c506f6 w_0369a5c</td>\n",
       "    </tr>\n",
       "    <tr>\n",
       "      <th>1</th>\n",
       "      <td>000dcf7d8.jpg</td>\n",
       "      <td>new_whale w_23a388d w_9b5109b w_9c506f6 w_0369a5c</td>\n",
       "    </tr>\n",
       "    <tr>\n",
       "      <th>2</th>\n",
       "      <td>000e7c7df.jpg</td>\n",
       "      <td>new_whale w_23a388d w_9b5109b w_9c506f6 w_0369a5c</td>\n",
       "    </tr>\n",
       "    <tr>\n",
       "      <th>3</th>\n",
       "      <td>0019c34f4.jpg</td>\n",
       "      <td>new_whale w_23a388d w_9b5109b w_9c506f6 w_0369a5c</td>\n",
       "    </tr>\n",
       "    <tr>\n",
       "      <th>4</th>\n",
       "      <td>001a4d292.jpg</td>\n",
       "      <td>new_whale w_23a388d w_9b5109b w_9c506f6 w_0369a5c</td>\n",
       "    </tr>\n",
       "  </tbody>\n",
       "</table>\n",
       "</div>"
      ],
      "text/plain": [
       "           Image                                                 Id\n",
       "0  00028a005.jpg  new_whale w_23a388d w_9b5109b w_9c506f6 w_0369a5c\n",
       "1  000dcf7d8.jpg  new_whale w_23a388d w_9b5109b w_9c506f6 w_0369a5c\n",
       "2  000e7c7df.jpg  new_whale w_23a388d w_9b5109b w_9c506f6 w_0369a5c\n",
       "3  0019c34f4.jpg  new_whale w_23a388d w_9b5109b w_9c506f6 w_0369a5c\n",
       "4  001a4d292.jpg  new_whale w_23a388d w_9b5109b w_9c506f6 w_0369a5c"
      ]
     },
     "execution_count": 5,
     "metadata": {},
     "output_type": "execute_result"
    }
   ],
   "source": [
    "sample_csv.head()"
   ]
  },
  {
   "cell_type": "code",
   "execution_count": 6,
   "metadata": {
    "scrolled": true
   },
   "outputs": [
    {
     "data": {
      "text/plain": [
       "new_whale    9664\n",
       "w_23a388d      73\n",
       "w_9b5109b      65\n",
       "w_9c506f6      62\n",
       "w_0369a5c      61\n",
       "w_700ebb4      57\n",
       "w_3de579a      54\n",
       "w_564a34b      51\n",
       "w_fd3e556      50\n",
       "w_88e4537      49\n",
       "Name: Id, dtype: int64"
      ]
     },
     "execution_count": 6,
     "metadata": {},
     "output_type": "execute_result"
    }
   ],
   "source": [
    "train_csv['Id'].value_counts()[:10]"
   ]
  },
  {
   "cell_type": "markdown",
   "metadata": {},
   "source": [
    "# Data vizzzz"
   ]
  },
  {
   "cell_type": "code",
   "execution_count": 7,
   "metadata": {},
   "outputs": [
    {
     "data": {
      "text/plain": [
       "(array([ 0,  1,  2,  3,  4,  5,  6,  7,  8,  9, 10, 11, 12, 13, 14, 15, 16,\n",
       "        17, 18, 19, 20, 21, 22, 23, 24, 25, 26, 27, 28, 29, 30, 31, 32, 33,\n",
       "        34, 35, 36, 37, 38, 39, 40, 41, 42, 43, 44, 45, 46, 47, 48, 49]),\n",
       " <a list of 50 Text xticklabel objects>)"
      ]
     },
     "execution_count": 7,
     "metadata": {},
     "output_type": "execute_result"
    },
    {
     "data": {
      "image/png": "[encoded data removed]",
      "text/plain": [
       "<Figure size 720x360 with 1 Axes>"
      ]
     },
     "metadata": {
      "needs_background": "light"
     },
     "output_type": "display_data"
    }
   ],
   "source": [
    "plt.figure(figsize=(10,5))\n",
    "sns.countplot(x = 'Id', order = train_csv['Id'].value_counts()[:50].index, data = train_csv)\n",
    "plt.ylim(0,1000)\n",
    "plt.xticks(rotation = 90)"
   ]
  },
  {
   "cell_type": "markdown",
   "metadata": {},
   "source": [
    "This Dataset is **imbalanced**, becuase each classes in the dataset are not equal in amount. So for better classification of images we need to do **Data Augumentation** to get **Balanced data** where the algorithm can better classify the images."
   ]
  },
  {
   "cell_type": "markdown",
   "metadata": {},
   "source": [
    "# Data Augumentation and Pre processing"
   ]
  },
  {
   "cell_type": "code",
   "execution_count": 8,
   "metadata": {},
   "outputs": [],
   "source": [
    "# Creating a Dataframe that contains Top 10 ids\n",
    "\n",
    "train_data = train_csv.loc[(train_csv['Id'] == 'w_23a388d') | (train_csv['Id'] == 'w_9b5109b') | (train_csv['Id'] == 'w_9c506f6') | (train_csv['Id'] == 'w_0369a5c') |  (train_csv['Id'] == 'new_whale')\n",
    "                          | (train_csv['Id'] == 'w_700ebb4')| (train_csv['Id'] == 'w_3de579a') | (train_csv['Id'] == 'w_564a34b') |  (train_csv['Id'] == 'w_fd3e556')|  (train_csv['Id'] == 'w_88e4537')]"
   ]
  },
  {
   "cell_type": "code",
   "execution_count": 9,
   "metadata": {},
   "outputs": [
    {
     "data": {
      "text/html": [
       "<div>\n",
       "<style scoped>\n",
       "    .dataframe tbody tr th:only-of-type {\n",
       "        vertical-align: middle;\n",
       "    }\n",
       "\n",
       "    .dataframe tbody tr th {\n",
       "        vertical-align: top;\n",
       "    }\n",
       "\n",
       "    .dataframe thead th {\n",
       "        text-align: right;\n",
       "    }\n",
       "</style>\n",
       "<table border=\"1\" class=\"dataframe\">\n",
       "  <thead>\n",
       "    <tr style=\"text-align: right;\">\n",
       "      <th></th>\n",
       "      <th>Image</th>\n",
       "      <th>Id</th>\n",
       "    </tr>\n",
       "  </thead>\n",
       "  <tbody>\n",
       "    <tr>\n",
       "      <th>0</th>\n",
       "      <td>00050a15a.jpg</td>\n",
       "      <td>new_whale</td>\n",
       "    </tr>\n",
       "    <tr>\n",
       "      <th>1</th>\n",
       "      <td>0005c1ef8.jpg</td>\n",
       "      <td>new_whale</td>\n",
       "    </tr>\n",
       "    <tr>\n",
       "      <th>2</th>\n",
       "      <td>0006e997e.jpg</td>\n",
       "      <td>new_whale</td>\n",
       "    </tr>\n",
       "    <tr>\n",
       "      <th>3</th>\n",
       "      <td>000f0f2bf.jpg</td>\n",
       "      <td>new_whale</td>\n",
       "    </tr>\n",
       "    <tr>\n",
       "      <th>4</th>\n",
       "      <td>001d7450c.jpg</td>\n",
       "      <td>new_whale</td>\n",
       "    </tr>\n",
       "  </tbody>\n",
       "</table>\n",
       "</div>"
      ],
      "text/plain": [
       "           Image         Id\n",
       "0  00050a15a.jpg  new_whale\n",
       "1  0005c1ef8.jpg  new_whale\n",
       "2  0006e997e.jpg  new_whale\n",
       "3  000f0f2bf.jpg  new_whale\n",
       "4  001d7450c.jpg  new_whale"
      ]
     },
     "execution_count": 9,
     "metadata": {},
     "output_type": "execute_result"
    }
   ],
   "source": [
    "train_data.index = range(0, len(train_data))\n",
    "train_data.head()"
   ]
  },
  {
   "cell_type": "code",
   "execution_count": 10,
   "metadata": {
    "scrolled": true
   },
   "outputs": [
    {
     "data": {
      "text/plain": [
       "new_whale    9664\n",
       "w_23a388d      73\n",
       "w_9b5109b      65\n",
       "w_9c506f6      62\n",
       "w_0369a5c      61\n",
       "w_700ebb4      57\n",
       "w_3de579a      54\n",
       "w_564a34b      51\n",
       "w_fd3e556      50\n",
       "w_88e4537      49\n",
       "Name: Id, dtype: int64"
      ]
     },
     "execution_count": 10,
     "metadata": {},
     "output_type": "execute_result"
    }
   ],
   "source": [
    "train_data['Id'].value_counts()"
   ]
  },
  {
   "cell_type": "code",
   "execution_count": 11,
   "metadata": {},
   "outputs": [],
   "source": [
    "asd = []\n",
    "for ids in train_data['Id']:\n",
    "    if ids not in asd:\n",
    "        asd.append(ids)"
   ]
  },
  {
   "cell_type": "code",
   "execution_count": 12,
   "metadata": {},
   "outputs": [],
   "source": [
    "def labelling():\n",
    "    label = {}\n",
    "    for l in asd:\n",
    "        la = asd.index(l)\n",
    "        label[l] = la\n",
    "    return label"
   ]
  },
  {
   "cell_type": "code",
   "execution_count": 13,
   "metadata": {},
   "outputs": [],
   "source": [
    "qq = labelling()"
   ]
  },
  {
   "cell_type": "code",
   "execution_count": 14,
   "metadata": {},
   "outputs": [
    {
     "data": {
      "text/plain": [
       "{'new_whale': 0,\n",
       " 'w_3de579a': 1,\n",
       " 'w_9c506f6': 2,\n",
       " 'w_700ebb4': 3,\n",
       " 'w_0369a5c': 4,\n",
       " 'w_23a388d': 5,\n",
       " 'w_564a34b': 6,\n",
       " 'w_9b5109b': 7,\n",
       " 'w_fd3e556': 8,\n",
       " 'w_88e4537': 9}"
      ]
     },
     "execution_count": 14,
     "metadata": {},
     "output_type": "execute_result"
    }
   ],
   "source": [
    "qq"
   ]
  },
  {
   "cell_type": "code",
   "execution_count": 15,
   "metadata": {},
   "outputs": [],
   "source": [
    "def lab():\n",
    "    value = []\n",
    "    for ids in train_data['Id']:\n",
    "        for a,b in qq.items():\n",
    "            if ids == a:\n",
    "                value.append(b)\n",
    "    return value"
   ]
  },
  {
   "cell_type": "code",
   "execution_count": 16,
   "metadata": {},
   "outputs": [],
   "source": [
    "result = lab()"
   ]
  },
  {
   "cell_type": "code",
   "execution_count": 17,
   "metadata": {},
   "outputs": [
    {
     "name": "stderr",
     "output_type": "stream",
     "text": [
      "C:\\Users\\srt90\\Anaconda3\\lib\\site-packages\\ipykernel_launcher.py:1: SettingWithCopyWarning: \n",
      "A value is trying to be set on a copy of a slice from a DataFrame.\n",
      "Try using .loc[row_indexer,col_indexer] = value instead\n",
      "\n",
      "See the caveats in the documentation: http://pandas.pydata.org/pandas-docs/stable/indexing.html#indexing-view-versus-copy\n",
      "  \"\"\"Entry point for launching an IPython kernel.\n"
     ]
    }
   ],
   "source": [
    "train_data['Labels'] = result"
   ]
  },
  {
   "cell_type": "code",
   "execution_count": 18,
   "metadata": {},
   "outputs": [
    {
     "data": {
      "text/html": [
       "<div>\n",
       "<style scoped>\n",
       "    .dataframe tbody tr th:only-of-type {\n",
       "        vertical-align: middle;\n",
       "    }\n",
       "\n",
       "    .dataframe tbody tr th {\n",
       "        vertical-align: top;\n",
       "    }\n",
       "\n",
       "    .dataframe thead th {\n",
       "        text-align: right;\n",
       "    }\n",
       "</style>\n",
       "<table border=\"1\" class=\"dataframe\">\n",
       "  <thead>\n",
       "    <tr style=\"text-align: right;\">\n",
       "      <th></th>\n",
       "      <th>Image</th>\n",
       "      <th>Id</th>\n",
       "      <th>Labels</th>\n",
       "    </tr>\n",
       "  </thead>\n",
       "  <tbody>\n",
       "    <tr>\n",
       "      <th>0</th>\n",
       "      <td>00050a15a.jpg</td>\n",
       "      <td>new_whale</td>\n",
       "      <td>0</td>\n",
       "    </tr>\n",
       "    <tr>\n",
       "      <th>1</th>\n",
       "      <td>0005c1ef8.jpg</td>\n",
       "      <td>new_whale</td>\n",
       "      <td>0</td>\n",
       "    </tr>\n",
       "    <tr>\n",
       "      <th>2</th>\n",
       "      <td>0006e997e.jpg</td>\n",
       "      <td>new_whale</td>\n",
       "      <td>0</td>\n",
       "    </tr>\n",
       "    <tr>\n",
       "      <th>3</th>\n",
       "      <td>000f0f2bf.jpg</td>\n",
       "      <td>new_whale</td>\n",
       "      <td>0</td>\n",
       "    </tr>\n",
       "    <tr>\n",
       "      <th>4</th>\n",
       "      <td>001d7450c.jpg</td>\n",
       "      <td>new_whale</td>\n",
       "      <td>0</td>\n",
       "    </tr>\n",
       "  </tbody>\n",
       "</table>\n",
       "</div>"
      ],
      "text/plain": [
       "           Image         Id  Labels\n",
       "0  00050a15a.jpg  new_whale       0\n",
       "1  0005c1ef8.jpg  new_whale       0\n",
       "2  0006e997e.jpg  new_whale       0\n",
       "3  000f0f2bf.jpg  new_whale       0\n",
       "4  001d7450c.jpg  new_whale       0"
      ]
     },
     "execution_count": 18,
     "metadata": {},
     "output_type": "execute_result"
    }
   ],
   "source": [
    "train_data.head()"
   ]
  },
  {
   "cell_type": "code",
   "execution_count": 19,
   "metadata": {},
   "outputs": [
    {
     "data": {
      "text/plain": [
       "array([0, 1, 2, 3, 4, 5, 6, 7, 8, 9], dtype=int64)"
      ]
     },
     "execution_count": 19,
     "metadata": {},
     "output_type": "execute_result"
    }
   ],
   "source": [
    "train_data['Labels'].unique()"
   ]
  },
  {
   "cell_type": "code",
   "execution_count": 20,
   "metadata": {
    "scrolled": true
   },
   "outputs": [],
   "source": [
    "Id_wd = train_data[train_data['Id'] == 'w_23a388d']\n",
    "Id_wd.index = range(0, len(Id_wd))\n",
    "#Id_wd.head()\n",
    "Id_wb = train_data[train_data['Id'] == 'w_9b5109b']\n",
    "Id_wb.index = range(0, len(Id_wb))\n",
    "#Id_wb.head()\n",
    "Id_w6 = train_data[train_data['Id'] == 'w_9c506f6']\n",
    "Id_w6.index = range(0, len(Id_w6))\n",
    "#Id_w6.head()\n",
    "Id_wc = train_data[train_data['Id'] == 'w_0369a5c']\n",
    "Id_wc.index = range(0, len(Id_wc))\n",
    "#Id_wc.head()\n",
    "Id_w4 = train_data[train_data['Id'] == 'w_700ebb4']\n",
    "Id_w4.index = range(0, len(Id_w4))\n",
    "#Id_w4.head()\n",
    "Id_w4b = train_data[train_data['Id'] == 'w_564a34b']\n",
    "Id_w4b.index = range(0, len(Id_w4b))\n",
    "#Id_w4b.head()\n",
    "Id_wa = train_data[train_data['Id'] == 'w_3de579a']\n",
    "Id_wa.index = range(0, len(Id_wa))\n",
    "#Id_wa.head()\n",
    "Id_w56 = train_data[train_data['Id'] == 'w_fd3e556']\n",
    "Id_w56.index = range(0, len(Id_w56))\n",
    "#Id_w56.head()\n",
    "Id_w7 = train_data[train_data['Id'] == 'w_88e4537']\n",
    "Id_w7.index = range(0, len(Id_w7))\n",
    "#Id_w7.head()"
   ]
  },
  {
   "cell_type": "code",
   "execution_count": 21,
   "metadata": {},
   "outputs": [],
   "source": [
    "f1 = []\n",
    "for w in Id_wd['Image']:\n",
    "    f1.append(w)\n",
    "f2 = []\n",
    "for w1 in Id_wc['Image']:\n",
    "    f2.append(w1)\n",
    "f3 = []\n",
    "for w2 in Id_w6['Image']:\n",
    "    f3.append(w2)\n",
    "f4 = []\n",
    "for w3 in Id_wb['Image']:\n",
    "    f4.append(w3)\n",
    "f5 = []\n",
    "for w in Id_w4['Image']:\n",
    "    f5.append(w)\n",
    "f6 = []\n",
    "for w1 in Id_w4b['Image']:\n",
    "    f6.append(w1)\n",
    "f7 = []\n",
    "for w2 in Id_wa['Image']:\n",
    "    f7.append(w2)\n",
    "f8 = []\n",
    "for w3 in Id_w56['Image']:\n",
    "    f8.append(w3)\n",
    "f9 = []\n",
    "for w3 in Id_w7['Image']:\n",
    "    f9.append(w3)"
   ]
  },
  {
   "cell_type": "code",
   "execution_count": 22,
   "metadata": {},
   "outputs": [
    {
     "name": "stdout",
     "output_type": "stream",
     "text": [
      "73\n",
      "61\n",
      "62\n",
      "65\n",
      "57\n",
      "51\n",
      "54\n",
      "50\n",
      "49\n"
     ]
    }
   ],
   "source": [
    "print(len(f1))\n",
    "print(len(f2))\n",
    "print(len(f3))\n",
    "print(len(f4))\n",
    "print(len(f5))\n",
    "print(len(f6))\n",
    "print(len(f7))\n",
    "print(len(f8))\n",
    "print(len(f9))"
   ]
  },
  {
   "cell_type": "code",
   "execution_count": 23,
   "metadata": {},
   "outputs": [],
   "source": [
    "#Path to the training images \n",
    "img_path = 'C:\\\\Users\\\\srt90\\\\Desktop\\\\humpback-whale-identification\\\\train'"
   ]
  },
  {
   "cell_type": "code",
   "execution_count": 24,
   "metadata": {},
   "outputs": [],
   "source": [
    "#paths to augumented images of each id\n",
    "\n",
    "r_path = 'C:/Users/srt90/Desktop/humpback-whale-identification/r1'\n",
    "r_path1 = 'C:/Users/srt90/Desktop/humpback-whale-identification/r2'\n",
    "r_path2 = 'C:/Users/srt90/Desktop/humpback-whale-identification/r3'\n",
    "r_path3 = 'C:/Users/srt90/Desktop/humpback-whale-identification/r4'\n",
    "r_path4= 'C:/Users/srt90/Desktop/humpback-whale-identification/r5'\n",
    "r_path5 = 'C:/Users/srt90/Desktop/humpback-whale-identification/r6'\n",
    "r_path6 = 'C:/Users/srt90/Desktop/humpback-whale-identification/r7'\n",
    "r_path7 = 'C:/Users/srt90/Desktop/humpback-whale-identification/r8'\n",
    "r_path8 = 'C:/Users/srt90/Desktop/humpback-whale-identification/r9'"
   ]
  },
  {
   "cell_type": "code",
   "execution_count": 25,
   "metadata": {},
   "outputs": [],
   "source": [
    "aug_images= []\n",
    "img_size1 = 124\n",
    "for file in f9:\n",
    "    img1 = cv2.imread(os.path.join(img_path,file))\n",
    "    new_img1 = cv2.resize(img1,(img_size1,img_size1), cv2.IMREAD_GRAYSCALE)\n",
    "    aug_images.append(new_img1)"
   ]
  },
  {
   "cell_type": "code",
   "execution_count": 26,
   "metadata": {},
   "outputs": [
    {
     "data": {
      "text/plain": [
       "49"
      ]
     },
     "execution_count": 26,
     "metadata": {},
     "output_type": "execute_result"
    }
   ],
   "source": [
    "len(aug_images)"
   ]
  },
  {
   "cell_type": "code",
   "execution_count": 27,
   "metadata": {},
   "outputs": [],
   "source": [
    "datagen = ImageDataGenerator(rotation_range = 20, width_shift_range=0.2,\n",
    "                             height_shift_range=0.2,shear_range=0.2,\n",
    "                             zoom_range=0.1,horizontal_flip=0.2)"
   ]
  },
  {
   "cell_type": "code",
   "execution_count": 28,
   "metadata": {},
   "outputs": [],
   "source": [
    "agg = []\n",
    "for v in range(len(aug_images)):\n",
    "    aug1= aug_images[v].reshape(-1,124,124,3)\n",
    "    aug1 = aug1/255\n",
    "    agg.append(aug1)"
   ]
  },
  {
   "cell_type": "code",
   "execution_count": null,
   "metadata": {},
   "outputs": [],
   "source": [
    "#Data Augumentation part\n",
    "\n",
    "for z in range(0,2):\n",
    "    print('hello')\n",
    "    i = 0\n",
    "    for batch in datagen.flow(ag[z],batch_size = 1,save_to_dir=t_path,save_format='jpg',save_prefix='w7'):\n",
    "        print(i)\n",
    "        img_plot = plt.imshow(image.img_to_array(batch[0]))\n",
    "        i+=1\n",
    "        plt.show()\n",
    "        if i == 129:                                                                                                                                          \n",
    "            break"
   ]
  },
  {
   "cell_type": "code",
   "execution_count": 29,
   "metadata": {},
   "outputs": [],
   "source": [
    "path1 = 'C:\\\\Users\\\\srt90\\\\Desktop\\\\humpback-whale-identification\\\\r1'\n",
    "wd_images = []\n",
    "img_size1 = 124\n",
    "for fle in os.listdir(path1):\n",
    "    wd_images.append(fle)"
   ]
  },
  {
   "cell_type": "code",
   "execution_count": 30,
   "metadata": {},
   "outputs": [],
   "source": [
    "path2 = 'C:\\\\Users\\\\srt90\\\\Desktop\\\\humpback-whale-identification\\\\r2'\n",
    "wc_images = []\n",
    "img_size1 = 124\n",
    "for fle in os.listdir(path2):\n",
    "    wc_images.append(fle)"
   ]
  },
  {
   "cell_type": "code",
   "execution_count": 31,
   "metadata": {},
   "outputs": [],
   "source": [
    "path3 = 'C:\\\\Users\\\\srt90\\\\Desktop\\\\humpback-whale-identification\\\\r3'\n",
    "w6_images = []\n",
    "img_size1 = 124\n",
    "for fle in os.listdir(path3):\n",
    "    w6_images.append(fle)"
   ]
  },
  {
   "cell_type": "code",
   "execution_count": 32,
   "metadata": {},
   "outputs": [],
   "source": [
    "path4 = 'C:\\\\Users\\\\srt90\\\\Desktop\\\\humpback-whale-identification\\\\r4'\n",
    "wb_images = []\n",
    "img_size1 = 124\n",
    "for fle in os.listdir(path4):\n",
    "    wb_images.append(fle)"
   ]
  },
  {
   "cell_type": "code",
   "execution_count": 33,
   "metadata": {},
   "outputs": [],
   "source": [
    "path5 = 'C:\\\\Users\\\\srt90\\\\Desktop\\\\humpback-whale-identification\\\\r5'\n",
    "w4_images = []\n",
    "img_size1 = 124\n",
    "for fle in os.listdir(path5):\n",
    "    w4_images.append(fle)"
   ]
  },
  {
   "cell_type": "code",
   "execution_count": 34,
   "metadata": {},
   "outputs": [],
   "source": [
    "path6 = 'C:\\\\Users\\\\srt90\\\\Desktop\\\\humpback-whale-identification\\\\r6'\n",
    "w4b_images = []\n",
    "img_size1 = 124\n",
    "for fle in os.listdir(path6):\n",
    "    w4b_images.append(fle)"
   ]
  },
  {
   "cell_type": "code",
   "execution_count": 35,
   "metadata": {},
   "outputs": [],
   "source": [
    "path7 = 'C:\\\\Users\\\\srt90\\\\Desktop\\\\humpback-whale-identification\\\\r7'\n",
    "wa_images = []\n",
    "img_size1 = 124\n",
    "for fle in os.listdir(path7):\n",
    "    wa_images.append(fle)"
   ]
  },
  {
   "cell_type": "code",
   "execution_count": 36,
   "metadata": {},
   "outputs": [],
   "source": [
    "path8 = 'C:\\\\Users\\\\srt90\\\\Desktop\\\\humpback-whale-identification\\\\r8'\n",
    "w56_images = []\n",
    "img_size1 = 124\n",
    "for fle in os.listdir(path8):\n",
    "    w56_images.append(fle)"
   ]
  },
  {
   "cell_type": "code",
   "execution_count": 37,
   "metadata": {},
   "outputs": [],
   "source": [
    "path9 = 'C:\\\\Users\\\\srt90\\\\Desktop\\\\humpback-whale-identification\\\\r9'\n",
    "w7_images = []\n",
    "img_size1 = 124\n",
    "for fle in os.listdir(path9):\n",
    "    w7_images.append(fle)"
   ]
  },
  {
   "cell_type": "code",
   "execution_count": 38,
   "metadata": {},
   "outputs": [
    {
     "name": "stdout",
     "output_type": "stream",
     "text": [
      "5940\n",
      "5511\n",
      "5490\n",
      "5747\n",
      "5202\n",
      "4803\n",
      "5049\n",
      "4766\n",
      "4622\n"
     ]
    }
   ],
   "source": [
    "print(len(wd_images))\n",
    "print(len(wc_images))\n",
    "print(len(w6_images))\n",
    "print(len(wb_images))\n",
    "print(len(w4_images))\n",
    "print(len(w4b_images))\n",
    "print(len(wa_images))\n",
    "print(len(w56_images))\n",
    "print(len(w7_images))"
   ]
  },
  {
   "cell_type": "code",
   "execution_count": 39,
   "metadata": {
    "scrolled": true
   },
   "outputs": [
    {
     "name": "stderr",
     "output_type": "stream",
     "text": [
      "C:\\Users\\srt90\\Anaconda3\\lib\\site-packages\\pandas\\core\\frame.py:6692: FutureWarning: Sorting because non-concatenation axis is not aligned. A future version\n",
      "of pandas will change to not sort by default.\n",
      "\n",
      "To accept the future behavior, pass 'sort=False'.\n",
      "\n",
      "To retain the current behavior and silence the warning, pass 'sort=True'.\n",
      "\n",
      "  sort=sort)\n"
     ]
    },
    {
     "data": {
      "text/html": [
       "<div>\n",
       "<style scoped>\n",
       "    .dataframe tbody tr th:only-of-type {\n",
       "        vertical-align: middle;\n",
       "    }\n",
       "\n",
       "    .dataframe tbody tr th {\n",
       "        vertical-align: top;\n",
       "    }\n",
       "\n",
       "    .dataframe thead th {\n",
       "        text-align: right;\n",
       "    }\n",
       "</style>\n",
       "<table border=\"1\" class=\"dataframe\">\n",
       "  <thead>\n",
       "    <tr style=\"text-align: right;\">\n",
       "      <th></th>\n",
       "      <th>Id</th>\n",
       "      <th>Image</th>\n",
       "      <th>Labels</th>\n",
       "    </tr>\n",
       "  </thead>\n",
       "  <tbody>\n",
       "    <tr>\n",
       "      <th>0</th>\n",
       "      <td>w_23a388d</td>\n",
       "      <td>02bdec750.jpg</td>\n",
       "      <td>5.0</td>\n",
       "    </tr>\n",
       "    <tr>\n",
       "      <th>1</th>\n",
       "      <td>w_23a388d</td>\n",
       "      <td>02f250971.jpg</td>\n",
       "      <td>5.0</td>\n",
       "    </tr>\n",
       "    <tr>\n",
       "      <th>2</th>\n",
       "      <td>w_23a388d</td>\n",
       "      <td>03b6593e9.jpg</td>\n",
       "      <td>5.0</td>\n",
       "    </tr>\n",
       "    <tr>\n",
       "      <th>3</th>\n",
       "      <td>w_23a388d</td>\n",
       "      <td>043b78dc6.jpg</td>\n",
       "      <td>5.0</td>\n",
       "    </tr>\n",
       "    <tr>\n",
       "      <th>4</th>\n",
       "      <td>w_23a388d</td>\n",
       "      <td>09611f0c5.jpg</td>\n",
       "      <td>5.0</td>\n",
       "    </tr>\n",
       "  </tbody>\n",
       "</table>\n",
       "</div>"
      ],
      "text/plain": [
       "          Id          Image  Labels\n",
       "0  w_23a388d  02bdec750.jpg     5.0\n",
       "1  w_23a388d  02f250971.jpg     5.0\n",
       "2  w_23a388d  03b6593e9.jpg     5.0\n",
       "3  w_23a388d  043b78dc6.jpg     5.0\n",
       "4  w_23a388d  09611f0c5.jpg     5.0"
      ]
     },
     "execution_count": 39,
     "metadata": {},
     "output_type": "execute_result"
    }
   ],
   "source": [
    "Id_wd = Id_wd.append(pd.DataFrame(wd_images, columns=['Image']))\n",
    "Id_wd['Id'].fillna('w_23a388d', inplace = True)\n",
    "Id_wd['Labels'].fillna(5, inplace = True)\n",
    "Id_wd.index = range(0, len(Id_wd))\n",
    "Id_wd.head()"
   ]
  },
  {
   "cell_type": "code",
   "execution_count": 40,
   "metadata": {
    "scrolled": true
   },
   "outputs": [
    {
     "data": {
      "text/html": [
       "<div>\n",
       "<style scoped>\n",
       "    .dataframe tbody tr th:only-of-type {\n",
       "        vertical-align: middle;\n",
       "    }\n",
       "\n",
       "    .dataframe tbody tr th {\n",
       "        vertical-align: top;\n",
       "    }\n",
       "\n",
       "    .dataframe thead th {\n",
       "        text-align: right;\n",
       "    }\n",
       "</style>\n",
       "<table border=\"1\" class=\"dataframe\">\n",
       "  <thead>\n",
       "    <tr style=\"text-align: right;\">\n",
       "      <th></th>\n",
       "      <th>Id</th>\n",
       "      <th>Image</th>\n",
       "      <th>Labels</th>\n",
       "    </tr>\n",
       "  </thead>\n",
       "  <tbody>\n",
       "    <tr>\n",
       "      <th>0</th>\n",
       "      <td>w_0369a5c</td>\n",
       "      <td>00e9e5122.jpg</td>\n",
       "      <td>4.0</td>\n",
       "    </tr>\n",
       "    <tr>\n",
       "      <th>1</th>\n",
       "      <td>w_0369a5c</td>\n",
       "      <td>06ae83bbc.jpg</td>\n",
       "      <td>4.0</td>\n",
       "    </tr>\n",
       "    <tr>\n",
       "      <th>2</th>\n",
       "      <td>w_0369a5c</td>\n",
       "      <td>092ef02b8.jpg</td>\n",
       "      <td>4.0</td>\n",
       "    </tr>\n",
       "    <tr>\n",
       "      <th>3</th>\n",
       "      <td>w_0369a5c</td>\n",
       "      <td>12670516b.jpg</td>\n",
       "      <td>4.0</td>\n",
       "    </tr>\n",
       "    <tr>\n",
       "      <th>4</th>\n",
       "      <td>w_0369a5c</td>\n",
       "      <td>12f5ad5a6.jpg</td>\n",
       "      <td>4.0</td>\n",
       "    </tr>\n",
       "  </tbody>\n",
       "</table>\n",
       "</div>"
      ],
      "text/plain": [
       "          Id          Image  Labels\n",
       "0  w_0369a5c  00e9e5122.jpg     4.0\n",
       "1  w_0369a5c  06ae83bbc.jpg     4.0\n",
       "2  w_0369a5c  092ef02b8.jpg     4.0\n",
       "3  w_0369a5c  12670516b.jpg     4.0\n",
       "4  w_0369a5c  12f5ad5a6.jpg     4.0"
      ]
     },
     "execution_count": 40,
     "metadata": {},
     "output_type": "execute_result"
    }
   ],
   "source": [
    "Id_wc = Id_wc.append(pd.DataFrame(wc_images, columns=['Image']))\n",
    "Id_wc['Id'].fillna('w_0369a5c', inplace = True)\n",
    "Id_wc['Labels'].fillna(4, inplace = True)\n",
    "Id_wc.index = range(0, len(Id_wc))\n",
    "Id_wc.head()"
   ]
  },
  {
   "cell_type": "code",
   "execution_count": 41,
   "metadata": {
    "scrolled": true
   },
   "outputs": [
    {
     "data": {
      "text/html": [
       "<div>\n",
       "<style scoped>\n",
       "    .dataframe tbody tr th:only-of-type {\n",
       "        vertical-align: middle;\n",
       "    }\n",
       "\n",
       "    .dataframe tbody tr th {\n",
       "        vertical-align: top;\n",
       "    }\n",
       "\n",
       "    .dataframe thead th {\n",
       "        text-align: right;\n",
       "    }\n",
       "</style>\n",
       "<table border=\"1\" class=\"dataframe\">\n",
       "  <thead>\n",
       "    <tr style=\"text-align: right;\">\n",
       "      <th></th>\n",
       "      <th>Id</th>\n",
       "      <th>Image</th>\n",
       "      <th>Labels</th>\n",
       "    </tr>\n",
       "  </thead>\n",
       "  <tbody>\n",
       "    <tr>\n",
       "      <th>0</th>\n",
       "      <td>w_9c506f6</td>\n",
       "      <td>00570db6b.jpg</td>\n",
       "      <td>2.0</td>\n",
       "    </tr>\n",
       "    <tr>\n",
       "      <th>1</th>\n",
       "      <td>w_9c506f6</td>\n",
       "      <td>13a7495d5.jpg</td>\n",
       "      <td>2.0</td>\n",
       "    </tr>\n",
       "    <tr>\n",
       "      <th>2</th>\n",
       "      <td>w_9c506f6</td>\n",
       "      <td>15685f504.jpg</td>\n",
       "      <td>2.0</td>\n",
       "    </tr>\n",
       "    <tr>\n",
       "      <th>3</th>\n",
       "      <td>w_9c506f6</td>\n",
       "      <td>158c781a5.jpg</td>\n",
       "      <td>2.0</td>\n",
       "    </tr>\n",
       "    <tr>\n",
       "      <th>4</th>\n",
       "      <td>w_9c506f6</td>\n",
       "      <td>16977eb66.jpg</td>\n",
       "      <td>2.0</td>\n",
       "    </tr>\n",
       "  </tbody>\n",
       "</table>\n",
       "</div>"
      ],
      "text/plain": [
       "          Id          Image  Labels\n",
       "0  w_9c506f6  00570db6b.jpg     2.0\n",
       "1  w_9c506f6  13a7495d5.jpg     2.0\n",
       "2  w_9c506f6  15685f504.jpg     2.0\n",
       "3  w_9c506f6  158c781a5.jpg     2.0\n",
       "4  w_9c506f6  16977eb66.jpg     2.0"
      ]
     },
     "execution_count": 41,
     "metadata": {},
     "output_type": "execute_result"
    }
   ],
   "source": [
    "Id_w6 = Id_w6.append(pd.DataFrame(w6_images, columns=['Image']))\n",
    "Id_w6['Id'].fillna('w_9c506f6', inplace = True)\n",
    "Id_w6['Labels'].fillna(2, inplace = True)\n",
    "Id_w6.index = range(0, len(Id_w6))\n",
    "Id_w6.head()"
   ]
  },
  {
   "cell_type": "code",
   "execution_count": 42,
   "metadata": {
    "scrolled": true
   },
   "outputs": [
    {
     "data": {
      "text/html": [
       "<div>\n",
       "<style scoped>\n",
       "    .dataframe tbody tr th:only-of-type {\n",
       "        vertical-align: middle;\n",
       "    }\n",
       "\n",
       "    .dataframe tbody tr th {\n",
       "        vertical-align: top;\n",
       "    }\n",
       "\n",
       "    .dataframe thead th {\n",
       "        text-align: right;\n",
       "    }\n",
       "</style>\n",
       "<table border=\"1\" class=\"dataframe\">\n",
       "  <thead>\n",
       "    <tr style=\"text-align: right;\">\n",
       "      <th></th>\n",
       "      <th>Id</th>\n",
       "      <th>Image</th>\n",
       "      <th>Labels</th>\n",
       "    </tr>\n",
       "  </thead>\n",
       "  <tbody>\n",
       "    <tr>\n",
       "      <th>0</th>\n",
       "      <td>w_9b5109b</td>\n",
       "      <td>047f23339.jpg</td>\n",
       "      <td>7.0</td>\n",
       "    </tr>\n",
       "    <tr>\n",
       "      <th>1</th>\n",
       "      <td>w_9b5109b</td>\n",
       "      <td>076719457.jpg</td>\n",
       "      <td>7.0</td>\n",
       "    </tr>\n",
       "    <tr>\n",
       "      <th>2</th>\n",
       "      <td>w_9b5109b</td>\n",
       "      <td>07733181b.jpg</td>\n",
       "      <td>7.0</td>\n",
       "    </tr>\n",
       "    <tr>\n",
       "      <th>3</th>\n",
       "      <td>w_9b5109b</td>\n",
       "      <td>0812d57cd.jpg</td>\n",
       "      <td>7.0</td>\n",
       "    </tr>\n",
       "    <tr>\n",
       "      <th>4</th>\n",
       "      <td>w_9b5109b</td>\n",
       "      <td>0ae95cf70.jpg</td>\n",
       "      <td>7.0</td>\n",
       "    </tr>\n",
       "  </tbody>\n",
       "</table>\n",
       "</div>"
      ],
      "text/plain": [
       "          Id          Image  Labels\n",
       "0  w_9b5109b  047f23339.jpg     7.0\n",
       "1  w_9b5109b  076719457.jpg     7.0\n",
       "2  w_9b5109b  07733181b.jpg     7.0\n",
       "3  w_9b5109b  0812d57cd.jpg     7.0\n",
       "4  w_9b5109b  0ae95cf70.jpg     7.0"
      ]
     },
     "execution_count": 42,
     "metadata": {},
     "output_type": "execute_result"
    }
   ],
   "source": [
    "Id_wb = Id_wb.append(pd.DataFrame(wb_images, columns=['Image']))\n",
    "Id_wb['Id'].fillna('w_9b5109b', inplace = True)\n",
    "Id_wb['Labels'].fillna(7, inplace = True)\n",
    "Id_wb.index = range(0, len(Id_wb))\n",
    "Id_wb.head()"
   ]
  },
  {
   "cell_type": "code",
   "execution_count": 43,
   "metadata": {
    "scrolled": true
   },
   "outputs": [
    {
     "data": {
      "text/html": [
       "<div>\n",
       "<style scoped>\n",
       "    .dataframe tbody tr th:only-of-type {\n",
       "        vertical-align: middle;\n",
       "    }\n",
       "\n",
       "    .dataframe tbody tr th {\n",
       "        vertical-align: top;\n",
       "    }\n",
       "\n",
       "    .dataframe thead th {\n",
       "        text-align: right;\n",
       "    }\n",
       "</style>\n",
       "<table border=\"1\" class=\"dataframe\">\n",
       "  <thead>\n",
       "    <tr style=\"text-align: right;\">\n",
       "      <th></th>\n",
       "      <th>Id</th>\n",
       "      <th>Image</th>\n",
       "      <th>Labels</th>\n",
       "    </tr>\n",
       "  </thead>\n",
       "  <tbody>\n",
       "    <tr>\n",
       "      <th>0</th>\n",
       "      <td>w_700ebb4</td>\n",
       "      <td>00910010d.jpg</td>\n",
       "      <td>3.0</td>\n",
       "    </tr>\n",
       "    <tr>\n",
       "      <th>1</th>\n",
       "      <td>w_700ebb4</td>\n",
       "      <td>0962efdb7.jpg</td>\n",
       "      <td>3.0</td>\n",
       "    </tr>\n",
       "    <tr>\n",
       "      <th>2</th>\n",
       "      <td>w_700ebb4</td>\n",
       "      <td>0c057c0a6.jpg</td>\n",
       "      <td>3.0</td>\n",
       "    </tr>\n",
       "    <tr>\n",
       "      <th>3</th>\n",
       "      <td>w_700ebb4</td>\n",
       "      <td>125b7d50d.jpg</td>\n",
       "      <td>3.0</td>\n",
       "    </tr>\n",
       "    <tr>\n",
       "      <th>4</th>\n",
       "      <td>w_700ebb4</td>\n",
       "      <td>126fc51b0.jpg</td>\n",
       "      <td>3.0</td>\n",
       "    </tr>\n",
       "  </tbody>\n",
       "</table>\n",
       "</div>"
      ],
      "text/plain": [
       "          Id          Image  Labels\n",
       "0  w_700ebb4  00910010d.jpg     3.0\n",
       "1  w_700ebb4  0962efdb7.jpg     3.0\n",
       "2  w_700ebb4  0c057c0a6.jpg     3.0\n",
       "3  w_700ebb4  125b7d50d.jpg     3.0\n",
       "4  w_700ebb4  126fc51b0.jpg     3.0"
      ]
     },
     "execution_count": 43,
     "metadata": {},
     "output_type": "execute_result"
    }
   ],
   "source": [
    "Id_w4 = Id_w4.append(pd.DataFrame(w4_images, columns=['Image']))\n",
    "Id_w4['Id'].fillna('w_700ebb4', inplace = True)\n",
    "Id_w4['Labels'].fillna(3, inplace = True)\n",
    "Id_w4.index = range(0, len(Id_w4))\n",
    "Id_w4.head()"
   ]
  },
  {
   "cell_type": "code",
   "execution_count": 44,
   "metadata": {
    "scrolled": true
   },
   "outputs": [
    {
     "data": {
      "text/html": [
       "<div>\n",
       "<style scoped>\n",
       "    .dataframe tbody tr th:only-of-type {\n",
       "        vertical-align: middle;\n",
       "    }\n",
       "\n",
       "    .dataframe tbody tr th {\n",
       "        vertical-align: top;\n",
       "    }\n",
       "\n",
       "    .dataframe thead th {\n",
       "        text-align: right;\n",
       "    }\n",
       "</style>\n",
       "<table border=\"1\" class=\"dataframe\">\n",
       "  <thead>\n",
       "    <tr style=\"text-align: right;\">\n",
       "      <th></th>\n",
       "      <th>Id</th>\n",
       "      <th>Image</th>\n",
       "      <th>Labels</th>\n",
       "    </tr>\n",
       "  </thead>\n",
       "  <tbody>\n",
       "    <tr>\n",
       "      <th>0</th>\n",
       "      <td>w_564a34b</td>\n",
       "      <td>040da527c.jpg</td>\n",
       "      <td>6.0</td>\n",
       "    </tr>\n",
       "    <tr>\n",
       "      <th>1</th>\n",
       "      <td>w_564a34b</td>\n",
       "      <td>0716fb02e.jpg</td>\n",
       "      <td>6.0</td>\n",
       "    </tr>\n",
       "    <tr>\n",
       "      <th>2</th>\n",
       "      <td>w_564a34b</td>\n",
       "      <td>223bdaa94.jpg</td>\n",
       "      <td>6.0</td>\n",
       "    </tr>\n",
       "    <tr>\n",
       "      <th>3</th>\n",
       "      <td>w_564a34b</td>\n",
       "      <td>252a17791.jpg</td>\n",
       "      <td>6.0</td>\n",
       "    </tr>\n",
       "    <tr>\n",
       "      <th>4</th>\n",
       "      <td>w_564a34b</td>\n",
       "      <td>3612c5daf.jpg</td>\n",
       "      <td>6.0</td>\n",
       "    </tr>\n",
       "  </tbody>\n",
       "</table>\n",
       "</div>"
      ],
      "text/plain": [
       "          Id          Image  Labels\n",
       "0  w_564a34b  040da527c.jpg     6.0\n",
       "1  w_564a34b  0716fb02e.jpg     6.0\n",
       "2  w_564a34b  223bdaa94.jpg     6.0\n",
       "3  w_564a34b  252a17791.jpg     6.0\n",
       "4  w_564a34b  3612c5daf.jpg     6.0"
      ]
     },
     "execution_count": 44,
     "metadata": {},
     "output_type": "execute_result"
    }
   ],
   "source": [
    "Id_w4b = Id_w4b.append(pd.DataFrame(w4b_images, columns=['Image']))\n",
    "Id_w4b['Id'].fillna('w_564a34b', inplace = True)\n",
    "Id_w4b['Labels'].fillna(6, inplace = True)\n",
    "Id_w4b.index = range(0, len(Id_w4b))\n",
    "Id_w4b.head()"
   ]
  },
  {
   "cell_type": "code",
   "execution_count": 45,
   "metadata": {
    "scrolled": true
   },
   "outputs": [
    {
     "data": {
      "text/html": [
       "<div>\n",
       "<style scoped>\n",
       "    .dataframe tbody tr th:only-of-type {\n",
       "        vertical-align: middle;\n",
       "    }\n",
       "\n",
       "    .dataframe tbody tr th {\n",
       "        vertical-align: top;\n",
       "    }\n",
       "\n",
       "    .dataframe thead th {\n",
       "        text-align: right;\n",
       "    }\n",
       "</style>\n",
       "<table border=\"1\" class=\"dataframe\">\n",
       "  <thead>\n",
       "    <tr style=\"text-align: right;\">\n",
       "      <th></th>\n",
       "      <th>Id</th>\n",
       "      <th>Image</th>\n",
       "      <th>Labels</th>\n",
       "    </tr>\n",
       "  </thead>\n",
       "  <tbody>\n",
       "    <tr>\n",
       "      <th>0</th>\n",
       "      <td>w_3de579a</td>\n",
       "      <td>004e8ad5b.jpg</td>\n",
       "      <td>1.0</td>\n",
       "    </tr>\n",
       "    <tr>\n",
       "      <th>1</th>\n",
       "      <td>w_3de579a</td>\n",
       "      <td>01598711e.jpg</td>\n",
       "      <td>1.0</td>\n",
       "    </tr>\n",
       "    <tr>\n",
       "      <th>2</th>\n",
       "      <td>w_3de579a</td>\n",
       "      <td>0b38cb192.jpg</td>\n",
       "      <td>1.0</td>\n",
       "    </tr>\n",
       "    <tr>\n",
       "      <th>3</th>\n",
       "      <td>w_3de579a</td>\n",
       "      <td>0d94bdad3.jpg</td>\n",
       "      <td>1.0</td>\n",
       "    </tr>\n",
       "    <tr>\n",
       "      <th>4</th>\n",
       "      <td>w_3de579a</td>\n",
       "      <td>16a7f84e7.jpg</td>\n",
       "      <td>1.0</td>\n",
       "    </tr>\n",
       "  </tbody>\n",
       "</table>\n",
       "</div>"
      ],
      "text/plain": [
       "          Id          Image  Labels\n",
       "0  w_3de579a  004e8ad5b.jpg     1.0\n",
       "1  w_3de579a  01598711e.jpg     1.0\n",
       "2  w_3de579a  0b38cb192.jpg     1.0\n",
       "3  w_3de579a  0d94bdad3.jpg     1.0\n",
       "4  w_3de579a  16a7f84e7.jpg     1.0"
      ]
     },
     "execution_count": 45,
     "metadata": {},
     "output_type": "execute_result"
    }
   ],
   "source": [
    "Id_wa = Id_wa.append(pd.DataFrame(wa_images, columns=['Image']))\n",
    "Id_wa['Id'].fillna('w_3de579a', inplace = True)\n",
    "Id_wa['Labels'].fillna(1, inplace = True)\n",
    "Id_wa.index = range(0, len(Id_wa))\n",
    "Id_wa.head()"
   ]
  },
  {
   "cell_type": "code",
   "execution_count": 46,
   "metadata": {
    "scrolled": true
   },
   "outputs": [
    {
     "data": {
      "text/html": [
       "<div>\n",
       "<style scoped>\n",
       "    .dataframe tbody tr th:only-of-type {\n",
       "        vertical-align: middle;\n",
       "    }\n",
       "\n",
       "    .dataframe tbody tr th {\n",
       "        vertical-align: top;\n",
       "    }\n",
       "\n",
       "    .dataframe thead th {\n",
       "        text-align: right;\n",
       "    }\n",
       "</style>\n",
       "<table border=\"1\" class=\"dataframe\">\n",
       "  <thead>\n",
       "    <tr style=\"text-align: right;\">\n",
       "      <th></th>\n",
       "      <th>Id</th>\n",
       "      <th>Image</th>\n",
       "      <th>Labels</th>\n",
       "    </tr>\n",
       "  </thead>\n",
       "  <tbody>\n",
       "    <tr>\n",
       "      <th>0</th>\n",
       "      <td>w_fd3e556</td>\n",
       "      <td>0779b9586.jpg</td>\n",
       "      <td>8.0</td>\n",
       "    </tr>\n",
       "    <tr>\n",
       "      <th>1</th>\n",
       "      <td>w_fd3e556</td>\n",
       "      <td>0b92d79c0.jpg</td>\n",
       "      <td>8.0</td>\n",
       "    </tr>\n",
       "    <tr>\n",
       "      <th>2</th>\n",
       "      <td>w_fd3e556</td>\n",
       "      <td>0d3e8320a.jpg</td>\n",
       "      <td>8.0</td>\n",
       "    </tr>\n",
       "    <tr>\n",
       "      <th>3</th>\n",
       "      <td>w_fd3e556</td>\n",
       "      <td>16666fe8c.jpg</td>\n",
       "      <td>8.0</td>\n",
       "    </tr>\n",
       "    <tr>\n",
       "      <th>4</th>\n",
       "      <td>w_fd3e556</td>\n",
       "      <td>175374a41.jpg</td>\n",
       "      <td>8.0</td>\n",
       "    </tr>\n",
       "  </tbody>\n",
       "</table>\n",
       "</div>"
      ],
      "text/plain": [
       "          Id          Image  Labels\n",
       "0  w_fd3e556  0779b9586.jpg     8.0\n",
       "1  w_fd3e556  0b92d79c0.jpg     8.0\n",
       "2  w_fd3e556  0d3e8320a.jpg     8.0\n",
       "3  w_fd3e556  16666fe8c.jpg     8.0\n",
       "4  w_fd3e556  175374a41.jpg     8.0"
      ]
     },
     "execution_count": 46,
     "metadata": {},
     "output_type": "execute_result"
    }
   ],
   "source": [
    "Id_w56 = Id_w56.append(pd.DataFrame(w56_images, columns=['Image']))\n",
    "Id_w56['Id'].fillna('w_fd3e556', inplace = True)\n",
    "Id_w56['Labels'].fillna(8, inplace = True)\n",
    "Id_w56.index = range(0, len(Id_w56))\n",
    "Id_w56.head()"
   ]
  },
  {
   "cell_type": "code",
   "execution_count": 47,
   "metadata": {
    "scrolled": true
   },
   "outputs": [
    {
     "data": {
      "text/html": [
       "<div>\n",
       "<style scoped>\n",
       "    .dataframe tbody tr th:only-of-type {\n",
       "        vertical-align: middle;\n",
       "    }\n",
       "\n",
       "    .dataframe tbody tr th {\n",
       "        vertical-align: top;\n",
       "    }\n",
       "\n",
       "    .dataframe thead th {\n",
       "        text-align: right;\n",
       "    }\n",
       "</style>\n",
       "<table border=\"1\" class=\"dataframe\">\n",
       "  <thead>\n",
       "    <tr style=\"text-align: right;\">\n",
       "      <th></th>\n",
       "      <th>Id</th>\n",
       "      <th>Image</th>\n",
       "      <th>Labels</th>\n",
       "    </tr>\n",
       "  </thead>\n",
       "  <tbody>\n",
       "    <tr>\n",
       "      <th>0</th>\n",
       "      <td>w_88e4537</td>\n",
       "      <td>0988114af.jpg</td>\n",
       "      <td>9.0</td>\n",
       "    </tr>\n",
       "    <tr>\n",
       "      <th>1</th>\n",
       "      <td>w_88e4537</td>\n",
       "      <td>0dad7f7d5.jpg</td>\n",
       "      <td>9.0</td>\n",
       "    </tr>\n",
       "    <tr>\n",
       "      <th>2</th>\n",
       "      <td>w_88e4537</td>\n",
       "      <td>11835e311.jpg</td>\n",
       "      <td>9.0</td>\n",
       "    </tr>\n",
       "    <tr>\n",
       "      <th>3</th>\n",
       "      <td>w_88e4537</td>\n",
       "      <td>1acc3891c.jpg</td>\n",
       "      <td>9.0</td>\n",
       "    </tr>\n",
       "    <tr>\n",
       "      <th>4</th>\n",
       "      <td>w_88e4537</td>\n",
       "      <td>1eef410a0.jpg</td>\n",
       "      <td>9.0</td>\n",
       "    </tr>\n",
       "  </tbody>\n",
       "</table>\n",
       "</div>"
      ],
      "text/plain": [
       "          Id          Image  Labels\n",
       "0  w_88e4537  0988114af.jpg     9.0\n",
       "1  w_88e4537  0dad7f7d5.jpg     9.0\n",
       "2  w_88e4537  11835e311.jpg     9.0\n",
       "3  w_88e4537  1acc3891c.jpg     9.0\n",
       "4  w_88e4537  1eef410a0.jpg     9.0"
      ]
     },
     "execution_count": 47,
     "metadata": {},
     "output_type": "execute_result"
    }
   ],
   "source": [
    "Id_w7 = Id_w7.append(pd.DataFrame(w7_images, columns=['Image']))\n",
    "Id_w7['Id'].fillna('w_88e4537', inplace = True)\n",
    "Id_w7['Labels'].fillna(9, inplace = True)\n",
    "Id_w7.index = range(0, len(Id_w7))\n",
    "Id_w7.head()"
   ]
  },
  {
   "cell_type": "code",
   "execution_count": 48,
   "metadata": {},
   "outputs": [],
   "source": [
    "new_whale = train_data[train_data['Id'] == 'new_whale']\n",
    "new_whale.index = range(0, len(new_whale))"
   ]
  },
  {
   "cell_type": "code",
   "execution_count": 49,
   "metadata": {},
   "outputs": [
    {
     "name": "stderr",
     "output_type": "stream",
     "text": [
      "C:\\Users\\srt90\\Anaconda3\\lib\\site-packages\\ipykernel_launcher.py:2: FutureWarning: Sorting because non-concatenation axis is not aligned. A future version\n",
      "of pandas will change to not sort by default.\n",
      "\n",
      "To accept the future behavior, pass 'sort=False'.\n",
      "\n",
      "To retain the current behavior and silence the warning, pass 'sort=True'.\n",
      "\n",
      "  \n"
     ]
    },
    {
     "data": {
      "text/html": [
       "<div>\n",
       "<style scoped>\n",
       "    .dataframe tbody tr th:only-of-type {\n",
       "        vertical-align: middle;\n",
       "    }\n",
       "\n",
       "    .dataframe tbody tr th {\n",
       "        vertical-align: top;\n",
       "    }\n",
       "\n",
       "    .dataframe thead th {\n",
       "        text-align: right;\n",
       "    }\n",
       "</style>\n",
       "<table border=\"1\" class=\"dataframe\">\n",
       "  <thead>\n",
       "    <tr style=\"text-align: right;\">\n",
       "      <th></th>\n",
       "      <th>Id</th>\n",
       "      <th>Image</th>\n",
       "      <th>Labels</th>\n",
       "    </tr>\n",
       "  </thead>\n",
       "  <tbody>\n",
       "    <tr>\n",
       "      <th>0</th>\n",
       "      <td>new_whale</td>\n",
       "      <td>00050a15a.jpg</td>\n",
       "      <td>0.0</td>\n",
       "    </tr>\n",
       "    <tr>\n",
       "      <th>1</th>\n",
       "      <td>new_whale</td>\n",
       "      <td>0005c1ef8.jpg</td>\n",
       "      <td>0.0</td>\n",
       "    </tr>\n",
       "    <tr>\n",
       "      <th>2</th>\n",
       "      <td>new_whale</td>\n",
       "      <td>0006e997e.jpg</td>\n",
       "      <td>0.0</td>\n",
       "    </tr>\n",
       "    <tr>\n",
       "      <th>3</th>\n",
       "      <td>new_whale</td>\n",
       "      <td>000f0f2bf.jpg</td>\n",
       "      <td>0.0</td>\n",
       "    </tr>\n",
       "    <tr>\n",
       "      <th>4</th>\n",
       "      <td>new_whale</td>\n",
       "      <td>001d7450c.jpg</td>\n",
       "      <td>0.0</td>\n",
       "    </tr>\n",
       "  </tbody>\n",
       "</table>\n",
       "</div>"
      ],
      "text/plain": [
       "          Id          Image  Labels\n",
       "0  new_whale  00050a15a.jpg     0.0\n",
       "1  new_whale  0005c1ef8.jpg     0.0\n",
       "2  new_whale  0006e997e.jpg     0.0\n",
       "3  new_whale  000f0f2bf.jpg     0.0\n",
       "4  new_whale  001d7450c.jpg     0.0"
      ]
     },
     "execution_count": 49,
     "metadata": {},
     "output_type": "execute_result"
    }
   ],
   "source": [
    "fs = [new_whale,Id_w6,Id_wb,Id_wc,Id_wd,Id_w4,Id_w4b,Id_w56,Id_w7,Id_wa]\n",
    "Final_data = pd.concat(fs)\n",
    "Final_data.index = range(0, len(Final_data))\n",
    "Final_data.head()"
   ]
  },
  {
   "cell_type": "code",
   "execution_count": 50,
   "metadata": {},
   "outputs": [
    {
     "data": {
      "text/plain": [
       "new_whale    9664\n",
       "w_23a388d    6013\n",
       "w_9b5109b    5812\n",
       "w_0369a5c    5572\n",
       "w_9c506f6    5552\n",
       "w_700ebb4    5259\n",
       "w_3de579a    5103\n",
       "w_564a34b    4854\n",
       "w_fd3e556    4816\n",
       "w_88e4537    4671\n",
       "Name: Id, dtype: int64"
      ]
     },
     "execution_count": 50,
     "metadata": {},
     "output_type": "execute_result"
    }
   ],
   "source": [
    "Final_data['Id'].value_counts()"
   ]
  },
  {
   "cell_type": "code",
   "execution_count": 51,
   "metadata": {},
   "outputs": [
    {
     "data": {
      "text/plain": [
       "array([0., 2., 7., 4., 5., 3., 6., 8., 9., 1.])"
      ]
     },
     "execution_count": 51,
     "metadata": {},
     "output_type": "execute_result"
    }
   ],
   "source": [
    "Final_data['Labels'].unique()"
   ]
  },
  {
   "cell_type": "code",
   "execution_count": 52,
   "metadata": {},
   "outputs": [],
   "source": [
    "imges = []\n",
    "for im in Final_data['Image']:\n",
    "    imges.append(im)"
   ]
  },
  {
   "cell_type": "code",
   "execution_count": 53,
   "metadata": {},
   "outputs": [
    {
     "data": {
      "text/plain": [
       "57316"
      ]
     },
     "execution_count": 53,
     "metadata": {},
     "output_type": "execute_result"
    }
   ],
   "source": [
    "len(imges)"
   ]
  },
  {
   "cell_type": "code",
   "execution_count": 54,
   "metadata": {},
   "outputs": [],
   "source": [
    "pathh = 'C:\\\\Users\\\\srt90\\\\Desktop\\\\humpback-whale-identification\\\\train1'\n",
    "train_images = []\n",
    "img_size = 124\n",
    "for file in imges:\n",
    "    img1 = cv2.imread(os.path.join(pathh,file), cv2.IMREAD_GRAYSCALE)\n",
    "    new_img = cv2.resize(img1,(img_size,img_size))\n",
    "    train_images.append(new_img)\n",
    "        "
   ]
  },
  {
   "cell_type": "code",
   "execution_count": 55,
   "metadata": {},
   "outputs": [
    {
     "data": {
      "text/plain": [
       "57316"
      ]
     },
     "execution_count": 55,
     "metadata": {},
     "output_type": "execute_result"
    }
   ],
   "source": [
    "len(train_images)"
   ]
  },
  {
   "cell_type": "code",
   "execution_count": 56,
   "metadata": {},
   "outputs": [],
   "source": [
    "labels = []\n",
    "for l in Final_data['Labels']:\n",
    "    labels.append(int(l))"
   ]
  },
  {
   "cell_type": "code",
   "execution_count": 57,
   "metadata": {},
   "outputs": [],
   "source": [
    "X = []\n",
    "y = []"
   ]
  },
  {
   "cell_type": "code",
   "execution_count": 58,
   "metadata": {},
   "outputs": [],
   "source": [
    "for a in train_images:\n",
    "    X.append(a)\n",
    "for b in labels:\n",
    "    y.append(b)"
   ]
  },
  {
   "cell_type": "code",
   "execution_count": 59,
   "metadata": {},
   "outputs": [],
   "source": [
    "def merge(l1,l2):\n",
    "    m = list(zip(l1,l2))\n",
    "    return m"
   ]
  },
  {
   "cell_type": "code",
   "execution_count": 60,
   "metadata": {},
   "outputs": [],
   "source": [
    "training_images = merge(X,y)"
   ]
  },
  {
   "cell_type": "code",
   "execution_count": 62,
   "metadata": {},
   "outputs": [],
   "source": [
    "x_train = []\n",
    "y_train = []"
   ]
  },
  {
   "cell_type": "code",
   "execution_count": 63,
   "metadata": {},
   "outputs": [],
   "source": [
    "for f,l in training_images:\n",
    "    x_train.append(f)\n",
    "    y_train.append(l)"
   ]
  },
  {
   "cell_type": "code",
   "execution_count": 64,
   "metadata": {},
   "outputs": [],
   "source": [
    "#last value in reshape refers to gray scale (1)\n",
    "x_train = np.array(x_train).reshape(-1,img_size,img_size,1)"
   ]
  },
  {
   "cell_type": "code",
   "execution_count": 65,
   "metadata": {},
   "outputs": [],
   "source": [
    "y_train = np.array(y_train)"
   ]
  },
  {
   "cell_type": "code",
   "execution_count": 66,
   "metadata": {},
   "outputs": [],
   "source": [
    "X1_train, X1_test, y1_train, y1_test = train_test_split(x_train, y_train, test_size=0.3, random_state= 1)"
   ]
  },
  {
   "cell_type": "code",
   "execution_count": 68,
   "metadata": {},
   "outputs": [],
   "source": [
    "X1_train = X1_train/255"
   ]
  },
  {
   "cell_type": "code",
   "execution_count": 67,
   "metadata": {},
   "outputs": [],
   "source": [
    "X1_test = X1_test/255"
   ]
  },
  {
   "cell_type": "code",
   "execution_count": 69,
   "metadata": {},
   "outputs": [
    {
     "data": {
      "text/plain": [
       "17195"
      ]
     },
     "execution_count": 69,
     "metadata": {},
     "output_type": "execute_result"
    }
   ],
   "source": [
    "len(X1_test)"
   ]
  },
  {
   "cell_type": "code",
   "execution_count": 70,
   "metadata": {},
   "outputs": [
    {
     "data": {
      "text/plain": [
       "40121"
      ]
     },
     "execution_count": 70,
     "metadata": {},
     "output_type": "execute_result"
    }
   ],
   "source": [
    "len(X1_train)"
   ]
  },
  {
   "cell_type": "code",
   "execution_count": 71,
   "metadata": {},
   "outputs": [
    {
     "data": {
      "text/plain": [
       "array([4, 6, 2, ..., 7, 7, 6])"
      ]
     },
     "execution_count": 71,
     "metadata": {},
     "output_type": "execute_result"
    }
   ],
   "source": [
    "y1_test"
   ]
  },
  {
   "cell_type": "code",
   "execution_count": 72,
   "metadata": {},
   "outputs": [
    {
     "data": {
      "text/plain": [
       "array([9, 7, 7, ..., 7, 5, 9])"
      ]
     },
     "execution_count": 72,
     "metadata": {},
     "output_type": "execute_result"
    }
   ],
   "source": [
    "y1_train"
   ]
  },
  {
   "cell_type": "markdown",
   "metadata": {},
   "source": [
    "# CNN Model"
   ]
  },
  {
   "cell_type": "code",
   "execution_count": 73,
   "metadata": {},
   "outputs": [
    {
     "name": "stdout",
     "output_type": "stream",
     "text": [
      "WARNING:tensorflow:From C:\\Users\\srt90\\Anaconda3\\lib\\site-packages\\tensorflow\\python\\ops\\resource_variable_ops.py:435: colocate_with (from tensorflow.python.framework.ops) is deprecated and will be removed in a future version.\n",
      "Instructions for updating:\n",
      "Colocations handled automatically by placer.\n",
      "WARNING:tensorflow:From C:\\Users\\srt90\\Anaconda3\\lib\\site-packages\\tensorflow\\python\\keras\\layers\\core.py:143: calling dropout (from tensorflow.python.ops.nn_ops) with keep_prob is deprecated and will be removed in a future version.\n",
      "Instructions for updating:\n",
      "Please use `rate` instead of `keep_prob`. Rate should be set to `rate = 1 - keep_prob`.\n",
      "Train on 36108 samples, validate on 4013 samples\n",
      "WARNING:tensorflow:From C:\\Users\\srt90\\Anaconda3\\lib\\site-packages\\tensorflow\\python\\ops\\math_ops.py:3066: to_int32 (from tensorflow.python.ops.math_ops) is deprecated and will be removed in a future version.\n",
      "Instructions for updating:\n",
      "Use tf.cast instead.\n",
      "Epoch 1/10\n",
      "36108/36108 [==============================] - 416s 12ms/sample - loss: 2.3614 - acc: 0.2434 - val_loss: 13.3946 - val_acc: 0.1682\n",
      "Epoch 2/10\n",
      "36108/36108 [==============================] - 296s 8ms/sample - loss: 1.6400 - acc: 0.4187 - val_loss: 1.5406 - val_acc: 0.4538\n",
      "Epoch 3/10\n",
      "36108/36108 [==============================] - 296s 8ms/sample - loss: 1.2442 - acc: 0.5664 - val_loss: 1.0819 - val_acc: 0.6075\n",
      "Epoch 4/10\n",
      "36108/36108 [==============================] - 298s 8ms/sample - loss: 0.8276 - acc: 0.7237 - val_loss: 0.6766 - val_acc: 0.7722\n",
      "Epoch 5/10\n",
      "36108/36108 [==============================] - 304s 8ms/sample - loss: 0.5012 - acc: 0.8388 - val_loss: 0.4958 - val_acc: 0.8363\n",
      "Epoch 6/10\n",
      "36108/36108 [==============================] - 303s 8ms/sample - loss: 0.3590 - acc: 0.8861 - val_loss: 0.3145 - val_acc: 0.8951\n",
      "Epoch 7/10\n",
      "36108/36108 [==============================] - 296s 8ms/sample - loss: 0.2683 - acc: 0.9144 - val_loss: 0.2254 - val_acc: 0.9267\n",
      "Epoch 8/10\n",
      "36108/36108 [==============================] - 292s 8ms/sample - loss: 0.2099 - acc: 0.9359 - val_loss: 0.1530 - val_acc: 0.9502\n",
      "Epoch 9/10\n",
      "36108/36108 [==============================] - 291s 8ms/sample - loss: 0.1658 - acc: 0.9478 - val_loss: 0.1885 - val_acc: 0.9432\n",
      "Epoch 10/10\n",
      "36108/36108 [==============================] - 291s 8ms/sample - loss: 0.1510 - acc: 0.9557 - val_loss: 0.1204 - val_acc: 0.9646\n"
     ]
    },
    {
     "data": {
      "text/plain": [
       "<tensorflow.python.keras.callbacks.History at 0x13499031cc0>"
      ]
     },
     "execution_count": 73,
     "metadata": {},
     "output_type": "execute_result"
    }
   ],
   "source": [
    "model = Sequential()\n",
    "\n",
    "model.add(Conv2D(64, (3,3),input_shape = (124,124,1)))\n",
    "model.add(Activation(\"relu\"))\n",
    "model.add(Conv2D(64, (3,3)))\n",
    "model.add(Activation(\"relu\"))\n",
    "model.add(MaxPooling2D(pool_size = (2,2)))\n",
    "\n",
    "model.add(Conv2D(128, (3,3)))\n",
    "model.add(Activation(\"relu\"))\n",
    "model.add(Conv2D(128, (3,3)))\n",
    "model.add(Activation(\"relu\"))\n",
    "model.add(MaxPooling2D(pool_size = (2,2)))\n",
    "\n",
    "model.add(Conv2D(256, (3,3)))\n",
    "model.add(Activation(\"relu\"))\n",
    "model.add(Conv2D(256, (3,3)))\n",
    "model.add(Activation(\"relu\"))\n",
    "model.add(Conv2D(256, (3,3)))\n",
    "model.add(Activation(\"relu\"))\n",
    "model.add(MaxPooling2D(pool_size = (2,2)))\n",
    "\n",
    "model.add(Conv2D(512, (3,3)))\n",
    "model.add(Activation(\"relu\"))\n",
    "model.add(Conv2D(512, (3,3)))\n",
    "model.add(Activation(\"relu\"))\n",
    "model.add(Conv2D(512, (3,3)))\n",
    "model.add(Activation(\"relu\"))\n",
    "model.add(MaxPooling2D(pool_size = (2,2)))\n",
    "\n",
    "model.add(Flatten())\n",
    "model.add(Dense(4096))\n",
    "model.add(BatchNormalization())\n",
    "model.add(Activation(\"relu\"))\n",
    "model.add(Dropout(0.5))\n",
    "\n",
    "model.add(Dense(4096))\n",
    "model.add(BatchNormalization())\n",
    "model.add(Activation(\"relu\"))\n",
    "model.add(Dropout(0.5))\n",
    "\n",
    "model.add(Dense(10))\n",
    "model.add(Activation('softmax'))\n",
    "\n",
    "model.compile('adam', loss='sparse_categorical_crossentropy', metrics = ['accuracy'])\n",
    "model.fit(X1_train, y1_train, epochs = 10, batch_size = 42, validation_split = 0.1)"
   ]
  },
  {
   "cell_type": "code",
   "execution_count": 74,
   "metadata": {},
   "outputs": [
    {
     "name": "stdout",
     "output_type": "stream",
     "text": [
      "_________________________________________________________________\n",
      "Layer (type)                 Output Shape              Param #   \n",
      "=================================================================\n",
      "conv2d (Conv2D)              (None, 122, 122, 64)      640       \n",
      "_________________________________________________________________\n",
      "activation (Activation)      (None, 122, 122, 64)      0         \n",
      "_________________________________________________________________\n",
      "conv2d_1 (Conv2D)            (None, 120, 120, 64)      36928     \n",
      "_________________________________________________________________\n",
      "activation_1 (Activation)    (None, 120, 120, 64)      0         \n",
      "_________________________________________________________________\n",
      "max_pooling2d (MaxPooling2D) (None, 60, 60, 64)        0         \n",
      "_________________________________________________________________\n",
      "conv2d_2 (Conv2D)            (None, 58, 58, 128)       73856     \n",
      "_________________________________________________________________\n",
      "activation_2 (Activation)    (None, 58, 58, 128)       0         \n",
      "_________________________________________________________________\n",
      "conv2d_3 (Conv2D)            (None, 56, 56, 128)       147584    \n",
      "_________________________________________________________________\n",
      "activation_3 (Activation)    (None, 56, 56, 128)       0         \n",
      "_________________________________________________________________\n",
      "max_pooling2d_1 (MaxPooling2 (None, 28, 28, 128)       0         \n",
      "_________________________________________________________________\n",
      "conv2d_4 (Conv2D)            (None, 26, 26, 256)       295168    \n",
      "_________________________________________________________________\n",
      "activation_4 (Activation)    (None, 26, 26, 256)       0         \n",
      "_________________________________________________________________\n",
      "conv2d_5 (Conv2D)            (None, 24, 24, 256)       590080    \n",
      "_________________________________________________________________\n",
      "activation_5 (Activation)    (None, 24, 24, 256)       0         \n",
      "_________________________________________________________________\n",
      "conv2d_6 (Conv2D)            (None, 22, 22, 256)       590080    \n",
      "_________________________________________________________________\n",
      "activation_6 (Activation)    (None, 22, 22, 256)       0         \n",
      "_________________________________________________________________\n",
      "max_pooling2d_2 (MaxPooling2 (None, 11, 11, 256)       0         \n",
      "_________________________________________________________________\n",
      "conv2d_7 (Conv2D)            (None, 9, 9, 512)         1180160   \n",
      "_________________________________________________________________\n",
      "activation_7 (Activation)    (None, 9, 9, 512)         0         \n",
      "_________________________________________________________________\n",
      "conv2d_8 (Conv2D)            (None, 7, 7, 512)         2359808   \n",
      "_________________________________________________________________\n",
      "activation_8 (Activation)    (None, 7, 7, 512)         0         \n",
      "_________________________________________________________________\n",
      "conv2d_9 (Conv2D)            (None, 5, 5, 512)         2359808   \n",
      "_________________________________________________________________\n",
      "activation_9 (Activation)    (None, 5, 5, 512)         0         \n",
      "_________________________________________________________________\n",
      "max_pooling2d_3 (MaxPooling2 (None, 2, 2, 512)         0         \n",
      "_________________________________________________________________\n",
      "flatten (Flatten)            (None, 2048)              0         \n",
      "_________________________________________________________________\n",
      "dense (Dense)                (None, 4096)              8392704   \n",
      "_________________________________________________________________\n",
      "batch_normalization_v1 (Batc (None, 4096)              16384     \n",
      "_________________________________________________________________\n",
      "activation_10 (Activation)   (None, 4096)              0         \n",
      "_________________________________________________________________\n",
      "dropout (Dropout)            (None, 4096)              0         \n",
      "_________________________________________________________________\n",
      "dense_1 (Dense)              (None, 4096)              16781312  \n",
      "_________________________________________________________________\n",
      "batch_normalization_v1_1 (Ba (None, 4096)              16384     \n",
      "_________________________________________________________________\n",
      "activation_11 (Activation)   (None, 4096)              0         \n",
      "_________________________________________________________________\n",
      "dropout_1 (Dropout)          (None, 4096)              0         \n",
      "_________________________________________________________________\n",
      "dense_2 (Dense)              (None, 10)                40970     \n",
      "_________________________________________________________________\n",
      "activation_12 (Activation)   (None, 10)                0         \n",
      "=================================================================\n",
      "Total params: 32,881,866\n",
      "Trainable params: 32,865,482\n",
      "Non-trainable params: 16,384\n",
      "_________________________________________________________________\n"
     ]
    }
   ],
   "source": [
    "model.summary()"
   ]
  },
  {
   "cell_type": "code",
   "execution_count": 75,
   "metadata": {},
   "outputs": [],
   "source": [
    "p = model.predict(X1_test, batch_size = 20)"
   ]
  },
  {
   "cell_type": "code",
   "execution_count": 76,
   "metadata": {},
   "outputs": [],
   "source": [
    "r_p = model.predict_classes(X1_test, batch_size = 20)"
   ]
  },
  {
   "cell_type": "code",
   "execution_count": 77,
   "metadata": {},
   "outputs": [],
   "source": [
    "cm  = confusion_matrix(y1_test,r_p)"
   ]
  },
  {
   "cell_type": "code",
   "execution_count": 78,
   "metadata": {},
   "outputs": [
    {
     "data": {
      "text/plain": [
       "array([[2793,   34,   12,    8,   25,   11,    8,    4,   13,    5],\n",
       "       [  22, 1543,    1,   13,    0,    0,    1,    5,    1,    0],\n",
       "       [   8,    2, 1569,    9,    0,    2,   12,    0,   18,    2],\n",
       "       [  13,   19,    2, 1468,    9,    3,    0,    9,    3,    0],\n",
       "       [   4,   21,    0,    6, 1640,    2,    1,    2,    2,    3],\n",
       "       [   4,   12,    0,   15,    8, 1778,    5,    0,   19,    3],\n",
       "       [  13,   16,    5,    0,    0,   18, 1346,    0,   27,    1],\n",
       "       [   2,    5,    0,    3,   39,    0,    0, 1703,    2,    0],\n",
       "       [   9,    2,    4,    0,    0,    3,    2,    0, 1408,    0],\n",
       "       [   9,    3,    4,    4,   19,   11,   10,    4,   17, 1334]],\n",
       "      dtype=int64)"
      ]
     },
     "execution_count": 78,
     "metadata": {},
     "output_type": "execute_result"
    }
   ],
   "source": [
    "cm"
   ]
  },
  {
   "cell_type": "code",
   "execution_count": 79,
   "metadata": {},
   "outputs": [
    {
     "data": {
      "text/plain": [
       "0.9643501017737715"
      ]
     },
     "execution_count": 79,
     "metadata": {},
     "output_type": "execute_result"
    }
   ],
   "source": [
    "accuracy_score(y1_test,r_p)"
   ]
  },
  {
   "cell_type": "code",
   "execution_count": 80,
   "metadata": {},
   "outputs": [],
   "source": [
    "model.save('CNN_Final_model_96.h5')"
   ]
  },
  {
   "cell_type": "code",
   "execution_count": null,
   "metadata": {},
   "outputs": [],
   "source": []
  }
 ],
 "metadata": {
  "kernelspec": {
   "display_name": "Python 3",
   "language": "python",
   "name": "python3"
  },
  "language_info": {
   "codemirror_mode": {
    "name": "ipython",
    "version": 3
   },
   "file_extension": ".py",
   "mimetype": "text/x-python",
   "name": "python",
   "nbconvert_exporter": "python",
   "pygments_lexer": "ipython3",
   "version": "3.6.6"
  }
 },
 "nbformat": 4,
 "nbformat_minor": 2
}
